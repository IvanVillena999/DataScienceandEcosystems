{
 "cells": [
  {
   "cell_type": "code",
   "execution_count": null,
   "id": "35799807-c3dd-4b7a-9ada-91b5448bda6a",
   "metadata": {},
   "outputs": [],
   "source": []
  },
  {
   "cell_type": "markdown",
   "id": "28bb80b0-ac4f-4ae8-ba0c-b0b75d6827fa",
   "metadata": {},
   "source": [
    "# Data Science Tools and Ecosystem"
   ]
  },
  {
   "cell_type": "code",
   "execution_count": null,
   "id": "2cd21da5-7411-47a4-b654-43a0c72e261f",
   "metadata": {},
   "outputs": [],
   "source": []
  },
  {
   "cell_type": "markdown",
   "id": "493583ed-11f5-4a3f-bfee-19f19897899c",
   "metadata": {},
   "source": [
    "In this notebook, Data Science Tools and Ecosystem are summarized "
   ]
  },
  {
   "cell_type": "code",
   "execution_count": null,
   "id": "1000f9be-7e91-44e8-89b5-e5e9a475af08",
   "metadata": {},
   "outputs": [],
   "source": []
  },
  {
   "cell_type": "markdown",
   "id": "a3828568-2a67-40cd-a221-b32dedf87341",
   "metadata": {},
   "source": [
    "Some of the popular languages that data scientists use are: \n",
    "\n",
    "1. Python\n",
    "2. R\n",
    "3. SQL"
   ]
  },
  {
   "cell_type": "code",
   "execution_count": null,
   "id": "2325a0ac-b543-45df-adf5-6ae300740f0c",
   "metadata": {},
   "outputs": [],
   "source": []
  },
  {
   "cell_type": "markdown",
   "id": "dafbbe13-a46a-484c-bcbc-529fc9fb2d73",
   "metadata": {},
   "source": [
    "Some of the commonly used libraries used by Data Scientists include: \n",
    "\n",
    "1. Pandas \n",
    "2. NumPy \n",
    "3. Scikit-learn "
   ]
  },
  {
   "cell_type": "code",
   "execution_count": null,
   "id": "293ef7e0-f6d1-4fa1-88e3-41a9945dfde9",
   "metadata": {},
   "outputs": [],
   "source": []
  },
  {
   "cell_type": "markdown",
   "id": "dcb62d04-3ca1-45d7-b585-94335d751974",
   "metadata": {},
   "source": [
    "| Data Science Tools |\n",
    "|--------------------|\n",
    "| Jupyter Notebook  |\n",
    "| RStudio           |\n",
    "| Spyder            |\n"
   ]
  },
  {
   "cell_type": "code",
   "execution_count": null,
   "id": "7068a3b6-2e2f-47b5-985d-23bec439a570",
   "metadata": {},
   "outputs": [],
   "source": []
  },
  {
   "cell_type": "markdown",
   "id": "7fe5245f-8610-4d89-be0f-9b438c81204b",
   "metadata": {},
   "source": [
    "### Below are a few examples of evaluating arithmetic expressions in Python.\n"
   ]
  },
  {
   "cell_type": "code",
   "execution_count": null,
   "id": "227241cb-07f9-4fad-84c4-86b5e23ae660",
   "metadata": {},
   "outputs": [],
   "source": []
  },
  {
   "cell_type": "markdown",
   "id": "919c45e2-c0cc-4f8f-82ae-764a24532d88",
   "metadata": {},
   "source": [
    "# This is a simple arithmetic expression to multiply then add integers.\n",
    "(3*4)+5\n",
    "\n",
    "\n",
    "\n",
    "\n",
    "\n",
    "\n",
    "\n"
   ]
  },
  {
   "cell_type": "code",
   "execution_count": 4,
   "id": "d6d720eb-0842-45d5-ae4a-ade94554a4f1",
   "metadata": {
    "tags": []
   },
   "outputs": [
    {
     "data": {
      "text/plain": [
       "17"
      ]
     },
     "execution_count": 4,
     "metadata": {},
     "output_type": "execute_result"
    }
   ],
   "source": [
    "(3*4)+5\n"
   ]
  },
  {
   "cell_type": "code",
   "execution_count": null,
   "id": "d50bc936-3007-4db0-870f-12304fa3cf06",
   "metadata": {},
   "outputs": [],
   "source": []
  },
  {
   "cell_type": "markdown",
   "id": "54dfa1b3-db49-4136-b84f-8b331862ce6a",
   "metadata": {},
   "source": [
    "# This will convert 200 minutes to hours by diving by 60."
   ]
  },
  {
   "cell_type": "code",
   "execution_count": 5,
   "id": "e9357b40-88de-4230-a9b1-86ddb838e3f8",
   "metadata": {
    "tags": []
   },
   "outputs": [
    {
     "data": {
      "text/plain": [
       "3.3333333333333335"
      ]
     },
     "execution_count": 5,
     "metadata": {},
     "output_type": "execute_result"
    }
   ],
   "source": [
    "(200/60)\n"
   ]
  },
  {
   "cell_type": "code",
   "execution_count": null,
   "id": "ad7cd2d7-ba65-4596-bcfc-a7849f6f1967",
   "metadata": {},
   "outputs": [],
   "source": []
  },
  {
   "cell_type": "markdown",
   "id": "6e47f9f6-c295-4d92-ab32-2b662231dadb",
   "metadata": {},
   "source": [
    "**Objectives:**\n",
    "\n",
    "- Gain familiarity on using different progamming languages used by data scientists\n",
    "- Evaluate arithmetic expressions in Python.\n",
    "- Understand the use of Jupyter for interactive coding.\n",
    "- Highlight the significance of libraries in data science.\n",
    "- Discuss the collaborative nature of tools like Jupyter.\n"
   ]
  },
  {
   "cell_type": "code",
   "execution_count": null,
   "id": "403d58f9-c598-4836-92b9-f7d4fad105fe",
   "metadata": {},
   "outputs": [],
   "source": []
  },
  {
   "cell_type": "markdown",
   "id": "0332dfa9-3345-49be-9e00-9f60d8661444",
   "metadata": {},
   "source": [
    "## Author\n",
    "\n",
    "Ivan Cassidy Villena \n"
   ]
  },
  {
   "cell_type": "code",
   "execution_count": null,
   "id": "d307c85d-2e90-4f10-8d6d-207114ef7eb5",
   "metadata": {},
   "outputs": [],
   "source": []
  }
 ],
 "metadata": {
  "kernelspec": {
   "display_name": "Python",
   "language": "python",
   "name": "conda-env-python-py"
  },
  "language_info": {
   "codemirror_mode": {
    "name": "ipython",
    "version": 3
   },
   "file_extension": ".py",
   "mimetype": "text/x-python",
   "name": "python",
   "nbconvert_exporter": "python",
   "pygments_lexer": "ipython3",
   "version": "3.7.12"
  }
 },
 "nbformat": 4,
 "nbformat_minor": 5
}
